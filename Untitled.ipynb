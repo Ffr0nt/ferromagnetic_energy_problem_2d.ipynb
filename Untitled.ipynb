{
 "cells": [
  {
   "cell_type": "markdown",
   "metadata": {
    "pycharm": {
     "name": "#%% md\n"
    }
   },
   "source": [
    "### Условие задачи\n",
    "\n",
    "**Дано:**\n",
    "- двумерная решетка молекул, расположенных в узлах кристаллической решетки, размеров $L_x \\times L_y$ с периодическими границами\n",
    "- каждая молекула обладает спином +1 или -1\n",
    "- межмолекулярное взаимодействие описывается константами $J_{ij} = 1$\n",
    "- модель Изинга\n",
    "\n",
    "\n",
    "**Требуется:**\n",
    "- согласно модели Изинга рассчитать среднюю энергию $\\langle E \\rangle$ для указанной цепочки молекул при:\n",
    "    - размерах решетки $L_x \\in [2, 3, ..., 8]$, $L_y = 4$\n",
    "    - температурах $kT \\in [1, 1.1, ..., 5.0]$\n",
    "- сохранить массив средних энергий при помощи `np.save`\n",
    "- вывести время расчета каждой итерации по $Lx$ или по $k T$\n",
    "- отобразить цветовую карту:\n",
    "    - ось абсцисс - $L_x$,\n",
    "    - ось ординат - $k T$,\n",
    "    - цветом отобразить нормированное значение средней энергии $\\frac{\\langle E \\rangle}{Lx Ly}$,\n",
    "    - подписать оси,\n",
    "    - отобразить цветовую шкалу (`colorbar`),\n",
    "    - засечки должны соответствовать значениям $Lx, kT$.\n",
    "- к каждой функции добавить `docstring` с описанием того, что функция делает, всех параметров и возвращаемого значения    \n",
    "\n",
    "**Описание:**\n",
    "\n",
    "**Одномерный случай**\n",
    "\n",
    "Модель Изинга является моделью магнетика. Пусть этот магнетик состоит из молекул, расположенных в узлах регулярной решетки. Пусть всего таких узлов будет $N$ штук, с индексами $i=1,\\ldots, N$.\n",
    "\n",
    "Предположим, что каждая молекула может быть представлена в виде магнитной стрелки, которая всегда либо направлена вдоль некоторой заданной оси, либо в противоположном направлении. То есть каждая молекула $i$ имеет две конфигурации, которые можно описывать с помощью \"спиновой\" переменной $\\sigma_i$. Эта переменная принимает значение $+1$ (параллельно оси, спин направлен вверх) и $-1$ (антипараллельно оси, спин направлен вниз).\n",
    "\n",
    "Пусть $\\sigma = \\{\\sigma_1, \\sigma_2, \\ldots, \\sigma_N\\}$ обозначает набор значений всех $N$ спинов. Имеется $2^N$ различных наборов $\\sigma$, и каждый из них описывает некоторое состояние системы. \n",
    "\n",
    "Гамильтониан системы  состоит из двух частей: первая $E_0$ включает вклад межмолекулярных сил внутри магнетика, а вторая $E_1(\\sigma)$ вклад от взаимодействий каждого спина с внешним магнитным полем (здесь считается нулевым). \n",
    "$$H(\\sigma)=E_0(\\sigma)+E_1(\\sigma)$$\n",
    "\n",
    "В любой физической системе мы предполагаем все взаимодействия инвариантными по отношению к обращению времени, что означает инвариантность $E$ при изменении знаков всех полей и намагниченностей. Энергия должна быть четной функцией от $\\sigma$:\n",
    "$$E_0(\\sigma_1,\\ldots, \\sigma_N)=E_0(-\\sigma_1,\\ldots, -\\sigma_N)$$\n",
    "\n",
    "Энергия системы при нулевом внешнем магнитном поле равна сумме произведений **соседних** спинов на константы взаимодействия $J_{ij}$\n",
    "$$E(\\sigma) = -\\sum_{i} J_{i,i+1}\\sigma_{i}\\sigma_{i+1} $$\n",
    "\n",
    "Вероятность находиться в состоянии $\\sigma$\n",
    "$$P(\\sigma)=\\frac{e^{-\\beta E(\\sigma)}}{Z},$$\n",
    "\tгде $Z = \\sum_{\\sigma} e^{-\\beta E(\\sigma)}-$ статистическая сумма, $\\beta = \\frac{1}{k T}-$ обратная температура, $k-$ константа Больцмана.\n",
    "\t\n",
    "Средняя энергия системы \n",
    "$$\\langle E \\rangle = \\frac{1}{Z}\\sum_{\\{\\sigma \\}} E(\\sigma)e^{-\\frac{E(\\sigma)}{kT}}$$\n",
    "рассчитывается по всевозможным состояниям системы, т.е. всевозможным наборам $\\sigma$.\n",
    "\n",
    "**Двумерный случай**\n",
    "\n",
    "В случае двумерной решетки энергия системы при нулевом внешнем магнитном поле вычисляется следующим образом: \n",
    "$$E(\\sigma) = -\\sum_{i,j} J_{ij}(\\sigma_{i,j}\\sigma_{i+1,j} + \\sigma_{i,j}\\sigma_{i,j+1})$$\n",
    "\n",
    "\n",
    "**Проверка корректности результатов**\n",
    "\n",
    "Средняя энергия для $L_x=4$ при температурах $kT \\in [1, 1.1, ..., 5.0]$:\n",
    "\n",
    "```\n",
    "[-1.99715844 -1.99396091 -1.98856632 -1.98016965 -1.96786355 -1.95064256\n",
    " -1.9274244  -1.89711215 -1.85871667 -1.81153907 -1.75538029 -1.69071311\n",
    " -1.61874282 -1.54131149 -1.46065977 -1.37911648 -1.29880759 -1.22145424\n",
    " -1.14828469 -1.0800446  -1.01706963 -0.95938399 -0.90679838 -0.85899291\n",
    " -0.8155803  -0.77615005 -0.74029707 -0.70763857 -0.67782287 -0.65053286\n",
    " -0.62548613 -0.60243323 -0.58115501 -0.56145948 -0.5431787  -0.52616582\n",
    " -0.5102923  -0.49544555 -0.48152673 -0.46844889]\n",
    "```\n",
    "\n",
    "\n",
    "**Материалы:**\n",
    "- [Бэкстер Р., Вольский Е. П., Дайхин Л. И. Точно решаемые модели в статистической механике](https://yadi.sk/i/2oY4c0bL08pNiw)\n",
    "- [Пример хорошего `docstring`](https://github.com/numpy/numpy/blob/v1.21.0/numpy/linalg/linalg.py#L313-L395)\n",
    "- [Зиннуров Б.Д., Якименко В.Я. Магнитные свойства модели Изинга в низких размерностях (МКР)](https://miem.hse.ru/data/2018/05/24/1149431665/model_Izinga_-_Zinnurov_Yakimenko.pdf)\n",
    "\n",
    "\n",
    "**Правила оценивания:**\n",
    "\n",
    "- оценка за корректно выполненный расчет для количества молекул в цепочке $L_x$, баллов из 100:\n",
    "```\n",
    "    Lx    =   2,   3,   4,   5,    6,    7,     8\n",
    "    g(Lx) = 1.0, 1.8, 3.3, 6.4, 12.6, 24.9,  50.0\n",
    "```\n",
    "    \n",
    "- штрафы $p(i)$, баллов:\n",
    "    - не выведено время расчета - 20\n",
    "    - не выведены значения средней энергии - 20\n",
    "    - не построена карта - 20\n",
    "    - отсутствует `docstring` - 20\n",
    "    - менее значимые недоработки - 10\n",
    "\n",
    "\n",
    "- итоговая оценка за задание = $\\sum_{Lx=2}^{8}{g(Lx)} - \\sum_{i}{p(i)}$\n"
   ]
  },
  {
   "cell_type": "code",
   "execution_count": 2,
   "outputs": [],
   "source": [
    "import numpy as np #for numpy arrays\n",
    "from numba import njit, prange\n",
    "import time #for timing up\n",
    "from tqdm import tqdm"
   ],
   "metadata": {
    "collapsed": false,
    "pycharm": {
     "name": "#%%\n"
    }
   }
  },
  {
   "cell_type": "code",
   "execution_count": 3,
   "outputs": [],
   "source": [
    "@njit\n",
    "def get_binar (num, arr):\n",
    "    \"\"\"\n",
    "     return np.array filled up with binary representation of a number num\n",
    "     in which 0 is changed with -1\n",
    "     -----------------------------------------\n",
    "     num: int\n",
    "     number to be converted\n",
    "\n",
    "     arr: np.array\n",
    "     array to fill up\n",
    "     -----------------------------------------\n",
    "     returns\n",
    "     np.array\n",
    "     np.array filled up with {1,-1} representation of a number num\n",
    "    \"\"\"\n",
    "\n",
    "    arr[...] = 1\n",
    "    shift = 0\n",
    "    while num :\n",
    "        if num%2 == 1:\n",
    "            arr[-1-shift] = -1\n",
    "        elif num%2 == 0:\n",
    "            arr[-1-shift] = 1\n",
    "        shift += 1\n",
    "        num = num // 2\n",
    "    return arr"
   ],
   "metadata": {
    "collapsed": false,
    "pycharm": {
     "name": "#%%\n"
    }
   }
  },
  {
   "cell_type": "code",
   "execution_count": 4,
   "metadata": {
    "pycharm": {
     "name": "#%%\n"
    }
   },
   "outputs": [],
   "source": [
    "@njit\n",
    "def get_sequence(length):\n",
    "    \"\"\"\n",
    "     returns generator of {1,-1} sequence\n",
    "     -----------------------------------------\n",
    "     length: int\n",
    "     the length of returned sequence\n",
    "     -----------------------------------------\n",
    "     returns\n",
    "     generator object\n",
    "    \"\"\"\n",
    "\n",
    "    arr = np.ones(length, dtype = np.int8 )\n",
    "    for num in range(2**length):\n",
    "        yield get_binar(num,arr)"
   ]
  },
  {
   "cell_type": "code",
   "execution_count": 5,
   "metadata": {
    "pycharm": {
     "name": "#%%\n"
    }
   },
   "outputs": [],
   "source": [
    "def timer(func):\n",
    "    \"\"\"\n",
    "     prints how long does the function was executed\n",
    "     -----------------------------------------\n",
    "     length: func\n",
    "     timing function\n",
    "     -----------------------------------------\n",
    "     returns\n",
    "     result of function\n",
    "    \"\"\"\n",
    "\n",
    "    def _wrapper(*args, **kwargs):\n",
    "        # time up function\n",
    "        start_time = time.perf_counter()\n",
    "        result = func(*args, **kwargs)\n",
    "        end_time = time.perf_counter()\n",
    "\n",
    "        # calc and output\n",
    "        time_sum = end_time - start_time\n",
    "        print(f'Function {func.__name__} with args {args} took {time_sum:.4f} seconds')\n",
    "        return result\n",
    "\n",
    "    return _wrapper"
   ]
  },
  {
   "cell_type": "code",
   "execution_count": 6,
   "metadata": {
    "pycharm": {
     "name": "#%%\n"
    }
   },
   "outputs": [],
   "source": [
    "# constants\n",
    "J = 1"
   ]
  },
  {
   "cell_type": "markdown",
   "source": [
    "### Main training loop"
   ],
   "metadata": {
    "collapsed": false,
    "pycharm": {
     "name": "#%% md\n"
    }
   }
  },
  {
   "cell_type": "code",
   "execution_count": 7,
   "outputs": [],
   "source": [
    "@njit\n",
    "def energy_step_mat (formed_net):\n",
    "    res_1 = np.multiply(formed_net,\n",
    "                        formed_net[:, np.hstack((np.array([-1]), np.arange(formed_net.shape[1] - 1)))])\n",
    "\n",
    "    res_2 = np.multiply(formed_net,\n",
    "                        formed_net[np.hstack((np.array([-1]), np.arange(formed_net.shape[0] - 1))), :])\n",
    "\n",
    "    return -J*(np.sum(res_1 + res_2))"
   ],
   "metadata": {
    "collapsed": false,
    "pycharm": {
     "name": "#%%\n"
    }
   }
  },
  {
   "cell_type": "code",
   "execution_count": 17,
   "outputs": [],
   "source": [
    "# @timer\n",
    "@njit\n",
    "def mean_energy (kT, l_x, l_y = 4):\n",
    "\n",
    "    generator = get_sequence(l_x * l_y)\n",
    "\n",
    "    beta = 1/(kT) #constant for this operation\n",
    "    Z = 0\n",
    "    Sigma = 0\n",
    "\n",
    "    for seq in generator:\n",
    "        formed_net = np.reshape(seq,(l_x, l_y))\n",
    "\n",
    "        E_local = energy_step_mat(formed_net)\n",
    "        Z_local = np.exp(-beta * E_local)\n",
    "\n",
    "        Z += Z_local\n",
    "        Sigma += E_local * Z_local\n",
    "\n",
    "    return ((1/Z) * Sigma)/(l_x*l_y)"
   ],
   "metadata": {
    "collapsed": false,
    "pycharm": {
     "name": "#%%\n"
    }
   }
  },
  {
   "cell_type": "code",
   "execution_count": 17,
   "outputs": [],
   "source": [],
   "metadata": {
    "collapsed": false,
    "pycharm": {
     "name": "#%%\n"
    }
   }
  },
  {
   "cell_type": "code",
   "execution_count": 36,
   "outputs": [],
   "source": [
    "@timer\n",
    "@njit(parallel = True)\n",
    "def energy_for_all_t (lx, ly = 4):\n",
    "    answer_1 =  np.zeros( 41 )\n",
    "    for T in prange(10,51):\n",
    "        answer_1[T - 10] = mean_energy(T/10,lx,ly)\n",
    "        print(T)\n",
    "    return answer_1"
   ],
   "metadata": {
    "collapsed": false,
    "pycharm": {
     "name": "#%%\n"
    }
   }
  },
  {
   "cell_type": "code",
   "execution_count": 35,
   "outputs": [
    {
     "name": "stdout",
     "output_type": "stream",
     "text": [
      "T\n",
      "T\n",
      "T\n",
      "T\n",
      "T\n",
      "T\n",
      "T\n",
      "T\n",
      "T\n",
      "T\n",
      "T\n",
      "T\n",
      "TT\n",
      "\n",
      "T\n",
      "T\n",
      "T\n",
      "T\n",
      "T\n",
      "T\n",
      "TT\n",
      "\n",
      "T\n",
      "T\n",
      "T\n",
      "T\n",
      "T\n",
      "T\n",
      "T\n",
      "T\n",
      "T\n",
      "T\n",
      "T\n",
      "T\n",
      "T\n",
      "T\n",
      "T\n",
      "T\n",
      "T\n",
      "T\n",
      "T\n",
      "Function energy_for_all_t with args (4, 4) took 23.4978 seconds\n",
      "[-1.99715844 -1.99396091 -1.98856632 -1.98016965 -1.96786355 -1.95064256\n",
      " -1.9274244  -1.89711215 -1.85871667 -1.81153907 -1.75538029 -1.69071311\n",
      " -1.61874282 -1.54131149 -1.46065977 -1.37911648 -1.29880759 -1.22145424\n",
      " -1.14828469 -1.0800446  -1.01706963 -0.95938399 -0.90679838 -0.85899291\n",
      " -0.8155803  -0.77615005 -0.74029707 -0.70763857 -0.67782287 -0.65053286\n",
      " -0.62548613 -0.60243323 -0.58115501 -0.56145948 -0.5431787  -0.52616582\n",
      " -0.5102923  -0.49544555 -0.48152673 -0.46844889 -0.45613537]\n"
     ]
    }
   ],
   "source": [
    "lx, ly = 4,4\n",
    "mean_en_arr = energy_for_all_t(lx, ly)\n",
    "print(mean_en_arr)"
   ],
   "metadata": {
    "collapsed": false,
    "pycharm": {
     "name": "#%%\n"
    }
   }
  },
  {
   "cell_type": "code",
   "execution_count": null,
   "outputs": [],
   "source": [],
   "metadata": {
    "collapsed": false,
    "pycharm": {
     "name": "#%%\n"
    }
   }
  },
  {
   "cell_type": "code",
   "execution_count": null,
   "outputs": [],
   "source": [],
   "metadata": {
    "collapsed": false,
    "pycharm": {
     "name": "#%%\n"
    }
   }
  },
  {
   "cell_type": "code",
   "execution_count": null,
   "outputs": [],
   "source": [],
   "metadata": {
    "collapsed": false,
    "pycharm": {
     "name": "#%%\n"
    }
   }
  },
  {
   "cell_type": "code",
   "execution_count": null,
   "outputs": [
    {
     "data": {
      "text/plain": "  0%|          | 0/41 [00:00<?, ?it/s]",
      "application/vnd.jupyter.widget-view+json": {
       "version_major": 2,
       "version_minor": 0,
       "model_id": "f85df4f8df9c4dfc94944d2bc9308ee2"
      }
     },
     "metadata": {},
     "output_type": "display_data"
    },
    {
     "name": "stdout",
     "output_type": "stream",
     "text": [
      "Function energy_for_all_t with args (1, 4) took 2.6850 seconds\n"
     ]
    },
    {
     "data": {
      "text/plain": "  0%|          | 0/41 [00:00<?, ?it/s]",
      "application/vnd.jupyter.widget-view+json": {
       "version_major": 2,
       "version_minor": 0,
       "model_id": "bb7508602b6d4a56a0627256158de7e1"
      }
     },
     "metadata": {},
     "output_type": "display_data"
    },
    {
     "name": "stdout",
     "output_type": "stream",
     "text": [
      "Function energy_for_all_t with args (2, 4) took 0.2947 seconds\n"
     ]
    },
    {
     "data": {
      "text/plain": "  0%|          | 0/41 [00:00<?, ?it/s]",
      "application/vnd.jupyter.widget-view+json": {
       "version_major": 2,
       "version_minor": 0,
       "model_id": "c0411365ae454cbbae3b656c0800e022"
      }
     },
     "metadata": {},
     "output_type": "display_data"
    },
    {
     "name": "stdout",
     "output_type": "stream",
     "text": [
      "Function energy_for_all_t with args (3, 4) took 0.9041 seconds\n"
     ]
    },
    {
     "data": {
      "text/plain": "  0%|          | 0/41 [00:00<?, ?it/s]",
      "application/vnd.jupyter.widget-view+json": {
       "version_major": 2,
       "version_minor": 0,
       "model_id": "018bf14045114ee1a3c48213944b79e0"
      }
     },
     "metadata": {},
     "output_type": "display_data"
    },
    {
     "name": "stdout",
     "output_type": "stream",
     "text": [
      "Function energy_for_all_t with args (4, 4) took 13.5971 seconds\n"
     ]
    },
    {
     "data": {
      "text/plain": "  0%|          | 0/41 [00:00<?, ?it/s]",
      "application/vnd.jupyter.widget-view+json": {
       "version_major": 2,
       "version_minor": 0,
       "model_id": "ec0308be90e14c8eb5f1482a50625b20"
      }
     },
     "metadata": {},
     "output_type": "display_data"
    },
    {
     "name": "stdout",
     "output_type": "stream",
     "text": [
      "Function energy_for_all_t with args (5, 4) took 148.6123 seconds\n"
     ]
    },
    {
     "data": {
      "text/plain": "  0%|          | 0/41 [00:00<?, ?it/s]",
      "application/vnd.jupyter.widget-view+json": {
       "version_major": 2,
       "version_minor": 0,
       "model_id": "acc5e3600c654e42adaec600d85ae202"
      }
     },
     "metadata": {},
     "output_type": "display_data"
    },
    {
     "name": "stdout",
     "output_type": "stream",
     "text": [
      "Function energy_for_all_t with args (6, 4) took 1966.6944 seconds\n"
     ]
    },
    {
     "data": {
      "text/plain": "  0%|          | 0/41 [00:00<?, ?it/s]",
      "application/vnd.jupyter.widget-view+json": {
       "version_major": 2,
       "version_minor": 0,
       "model_id": "a3a98bf3500641cb893e7ac60b3bb45f"
      }
     },
     "metadata": {},
     "output_type": "display_data"
    }
   ],
   "source": [
    "ly = 4\n",
    "for lx in range(1,8):\n",
    "    mean_en_arr = energy_for_all_t(lx, ly)\n",
    "    np.save(file = \"/Users/fedor/Desktop/projects/кп/size_\"+str(lx) , arr = mean_en_arr)"
   ],
   "metadata": {
    "collapsed": false,
    "pycharm": {
     "name": "#%%\n"
    }
   }
  },
  {
   "cell_type": "code",
   "execution_count": null,
   "outputs": [],
   "source": [],
   "metadata": {
    "collapsed": false,
    "pycharm": {
     "name": "#%%\n"
    }
   }
  },
  {
   "cell_type": "code",
   "execution_count": 37,
   "outputs": [
    {
     "name": "stdout",
     "output_type": "stream",
     "text": [
      "21\n",
      "41\n",
      "31\n",
      "10\n",
      "42\n",
      "22\n",
      "32\n",
      "11\n",
      "43\n",
      "23\n",
      "33\n",
      "12\n",
      "44\n",
      "34\n",
      "24\n",
      "13\n",
      "45\n",
      "35\n",
      "25\n",
      "14\n",
      "46\n",
      "36\n",
      "26\n",
      "15\n",
      "47\n",
      "37\n",
      "27\n",
      "16\n",
      "48\n",
      "38\n",
      "28\n",
      "17\n",
      "49\n",
      "39\n",
      "29\n",
      "18\n",
      "40\n",
      "50\n",
      "30\n",
      "19\n",
      "20\n",
      "Function energy_for_all_t with args (7, 4) took 25492.9755 seconds\n",
      "[-1.9971582  -1.99395917 -1.98855691 -1.98012917 -1.96771861 -1.95019835\n",
      " -1.92623542 -1.89429394 -1.85274448 -1.80014858 -1.73572886 -1.65989968\n",
      " -1.57458935 -1.48308936 -1.38940407 -1.29738701 -1.21005576 -1.1293045\n",
      " -1.05597909 -0.99014355 -0.93137801 -0.87902057 -0.83233015 -0.79058107\n",
      " -0.75310988 -0.71933295 -0.68874798 -0.66092782 -0.63551132 -0.61219363\n",
      " -0.59071721 -0.5708639  -0.55244826 -0.53531194 -0.51931914 -0.50435284\n",
      " -0.49031168 -0.47710754 -0.46466335 -0.45291152 -0.44179242]\n"
     ]
    }
   ],
   "source": [
    "lx, ly = 7,4\n",
    "mean_en_arr = energy_for_all_t(lx, ly)\n",
    "print(mean_en_arr)"
   ],
   "metadata": {
    "collapsed": false,
    "pycharm": {
     "name": "#%%\n"
    }
   }
  },
  {
   "cell_type": "code",
   "execution_count": 38,
   "outputs": [],
   "source": [
    "np.save(file = \"/Users/fedor/Desktop/projects/кп/size_\"+str(7) , arr = mean_en_arr)"
   ],
   "metadata": {
    "collapsed": false,
    "pycharm": {
     "name": "#%%\n"
    }
   }
  },
  {
   "cell_type": "code",
   "execution_count": null,
   "outputs": [],
   "source": [],
   "metadata": {
    "collapsed": false,
    "pycharm": {
     "name": "#%%\n"
    }
   }
  }
 ],
 "metadata": {
  "kernelspec": {
   "display_name": "Python 3 (ipykernel)",
   "language": "python",
   "name": "python3"
  }
 },
 "nbformat": 4,
 "nbformat_minor": 4
}